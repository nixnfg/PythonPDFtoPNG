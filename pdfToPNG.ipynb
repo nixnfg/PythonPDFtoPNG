{
 "cells": [
  {
   "cell_type": "code",
   "execution_count": 12,
   "metadata": {},
   "outputs": [],
   "source": [
    "from pdf2image import convert_from_path, convert_from_bytes\n",
    "from pdf2image.exceptions import (\n",
    "    PDFInfoNotInstalledError,\n",
    "    PDFPageCountError,\n",
    "    PDFSyntaxError\n",
    ")\n",
    "import os"
   ]
  },
  {
   "cell_type": "code",
   "execution_count": 13,
   "metadata": {},
   "outputs": [],
   "source": [
    "filename = './source.pdf'\n",
    "tempdir = \"./temp_dir\"\n",
    "save_dir = \"./out_dir\""
   ]
  },
  {
   "cell_type": "code",
   "execution_count": 16,
   "metadata": {},
   "outputs": [],
   "source": [
    "def pdf2pic(filename,tempdir,save_dir):\n",
    "    # 创建临时文件夹\n",
    "    if not os.path.exists(tempdir):\n",
    "        os.makedirs(tempdir)\n",
    "    # 读取pdf到零食文件夹\n",
    "    images_from_path = convert_from_path(filename, output_folder=tempdir)\n",
    "    base_filename=os.path.splitext(os.path.basename(filename))[0]\n",
    "    # 将临时文件导出为png或其他格式的图片\n",
    "    count=0\n",
    "    for page in images_from_path:\n",
    "        page.save(os.path.join(save_dir,base_filename+\"_\"+str(count)+\".png\"),'png')\n",
    "        count=count+1\n",
    "def del_file(path):\n",
    "    ls = os.listdir(path)\n",
    "    for i in ls:\n",
    "        c_path = os.path.join(path, i)\n",
    "        if os.path.isdir(c_path):\n",
    "            del_file(c_path)\n",
    "        else:\n",
    "            os.remove(c_path)"
   ]
  },
  {
   "cell_type": "code",
   "execution_count": 18,
   "metadata": {},
   "outputs": [],
   "source": [
    "pdf2pic(filename,tempdir,save_dir)"
   ]
  },
  {
   "cell_type": "code",
   "execution_count": 20,
   "metadata": {},
   "outputs": [],
   "source": [
    "del_file(tempdir)"
   ]
  }
 ],
 "metadata": {
  "interpreter": {
   "hash": "4ed396ea82a17aff05e4569fe53792493ac87768ef34dbfaa14e152277d93d5f"
  },
  "kernelspec": {
   "display_name": "Python 3.7.11 64-bit ('deeplearning': conda)",
   "language": "python",
   "name": "python3"
  },
  "language_info": {
   "codemirror_mode": {
    "name": "ipython",
    "version": 3
   },
   "file_extension": ".py",
   "mimetype": "text/x-python",
   "name": "python",
   "nbconvert_exporter": "python",
   "pygments_lexer": "ipython3",
   "version": "3.7.11"
  },
  "orig_nbformat": 4
 },
 "nbformat": 4,
 "nbformat_minor": 2
}
